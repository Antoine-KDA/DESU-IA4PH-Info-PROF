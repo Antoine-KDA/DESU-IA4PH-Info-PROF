{
  "nbformat": 4,
  "nbformat_minor": 0,
  "metadata": {
    "colab": {
      "name": "cleaningDataframe.ipynb",
      "provenance": [],
      "collapsed_sections": [],
      "authorship_tag": "ABX9TyN2OYLpF4q/fp9+EkTNfKn0",
      "include_colab_link": true
    },
    "kernelspec": {
      "name": "python3",
      "display_name": "Python 3"
    },
    "language_info": {
      "name": "python"
    }
  },
  "cells": [
    {
      "cell_type": "markdown",
      "metadata": {
        "id": "view-in-github",
        "colab_type": "text"
      },
      "source": [
        "<a href=\"https://colab.research.google.com/github/rakelup/DESU-IA4PH-Info-PROF/blob/main/cleaningDataframe.ipynb\" target=\"_parent\"><img src=\"https://colab.research.google.com/assets/colab-badge.svg\" alt=\"Open In Colab\"/></a>"
      ]
    },
    {
      "cell_type": "markdown",
      "metadata": {
        "id": "DDOe5uyH9Sp_"
      },
      "source": [
        "#DESU IA4 HEALH\n",
        "**TU : Info-PROF, Introduction to Python programming for health data**"
      ]
    },
    {
      "cell_type": "markdown",
      "metadata": {
        "id": "NZEu-piC8vL5"
      },
      "source": [
        "#Importing and cleaning a dataframe\n"
      ]
    },
    {
      "cell_type": "code",
      "metadata": {
        "id": "f2rByKL3_IHt"
      },
      "source": [
        "import pandas as pd\n",
        "import numpy as np"
      ],
      "execution_count": null,
      "outputs": []
    },
    {
      "cell_type": "markdown",
      "metadata": {
        "id": "YXYTHyEM_mKK"
      },
      "source": [
        "##Importing the data :\n",
        "We can import datasets from different types of existing documents : excel files, flat files, json, html etc ... We can dirrectly import the file or indicate the URL to allow Python to download it. \n",
        "In the following we are going to export an excel fille from a github repository.\n",
        "\n",
        "For more details on how we can import different files into a ddataframe  have a look to\n",
        "[Pandas Input/output](https://pandas.pydata.org/docs/reference/io.html)"
      ]
    },
    {
      "cell_type": "code",
      "metadata": {
        "colab": {
          "base_uri": "https://localhost:8080/",
          "height": 206
        },
        "id": "wYfCtTIo-pms",
        "outputId": "126d0b14-01b8-4eef-d93c-e3ea69a2a3e3"
      },
      "source": [
        "df = pd.read_excel(\"https://github.com/rakelup/DESU-IA4PH-Info-PROF/blob/main/dirtydata.xlsx?raw=true\")\n",
        "df.head()\n"
      ],
      "execution_count": null,
      "outputs": [
        {
          "output_type": "execute_result",
          "data": {
            "text/html": [
              "<div>\n",
              "<style scoped>\n",
              "    .dataframe tbody tr th:only-of-type {\n",
              "        vertical-align: middle;\n",
              "    }\n",
              "\n",
              "    .dataframe tbody tr th {\n",
              "        vertical-align: top;\n",
              "    }\n",
              "\n",
              "    .dataframe thead th {\n",
              "        text-align: right;\n",
              "    }\n",
              "</style>\n",
              "<table border=\"1\" class=\"dataframe\">\n",
              "  <thead>\n",
              "    <tr style=\"text-align: right;\">\n",
              "      <th></th>\n",
              "      <th>Duration</th>\n",
              "      <th>Date</th>\n",
              "      <th>Pulse</th>\n",
              "      <th>Maxpulse</th>\n",
              "      <th>Calories</th>\n",
              "    </tr>\n",
              "  </thead>\n",
              "  <tbody>\n",
              "    <tr>\n",
              "      <th>0</th>\n",
              "      <td>60</td>\n",
              "      <td>'2020/12/01'</td>\n",
              "      <td>110.0</td>\n",
              "      <td>130.0</td>\n",
              "      <td>409.1</td>\n",
              "    </tr>\n",
              "    <tr>\n",
              "      <th>1</th>\n",
              "      <td>60</td>\n",
              "      <td>'2020/12/02'</td>\n",
              "      <td>117.0</td>\n",
              "      <td>145.0</td>\n",
              "      <td>479.0</td>\n",
              "    </tr>\n",
              "    <tr>\n",
              "      <th>2</th>\n",
              "      <td>60</td>\n",
              "      <td>'2020/12/03'</td>\n",
              "      <td>103.0</td>\n",
              "      <td>135.0</td>\n",
              "      <td>340.0</td>\n",
              "    </tr>\n",
              "    <tr>\n",
              "      <th>3</th>\n",
              "      <td>45</td>\n",
              "      <td>'2020/12/04'</td>\n",
              "      <td>109.0</td>\n",
              "      <td>175.0</td>\n",
              "      <td>282.4</td>\n",
              "    </tr>\n",
              "    <tr>\n",
              "      <th>4</th>\n",
              "      <td>45</td>\n",
              "      <td>'2020/12/05'</td>\n",
              "      <td>117.0</td>\n",
              "      <td>148.0</td>\n",
              "      <td>406.0</td>\n",
              "    </tr>\n",
              "  </tbody>\n",
              "</table>\n",
              "</div>"
            ],
            "text/plain": [
              "   Duration          Date  Pulse  Maxpulse  Calories\n",
              "0        60  '2020/12/01'  110.0     130.0     409.1\n",
              "1        60  '2020/12/02'  117.0     145.0     479.0\n",
              "2        60  '2020/12/03'  103.0     135.0     340.0\n",
              "3        45  '2020/12/04'  109.0     175.0     282.4\n",
              "4        45  '2020/12/05'  117.0     148.0     406.0"
            ]
          },
          "metadata": {},
          "execution_count": 2
        }
      ]
    },
    {
      "cell_type": "markdown",
      "metadata": {
        "id": "VUFHC71URxAN"
      },
      "source": [
        "**Exercise :** Let's have a look to the statistics of our database with describe; \n",
        "Do you find any weird information ? "
      ]
    },
    {
      "cell_type": "markdown",
      "metadata": {
        "id": "dTNDpa_-BaXN"
      },
      "source": [
        "Lets have a look to see if we have missing values."
      ]
    },
    {
      "cell_type": "code",
      "metadata": {
        "colab": {
          "base_uri": "https://localhost:8080/"
        },
        "id": "GRq5Uhq1BeF9",
        "outputId": "60f4c83c-80e9-4232-f1bb-fbf578da52ae"
      },
      "source": [
        "df.isnull().sum() # It tells us the nuber of missing values in each column."
      ],
      "execution_count": null,
      "outputs": [
        {
          "output_type": "execute_result",
          "data": {
            "text/plain": [
              "Duration    0\n",
              "Date        1\n",
              "Pulse       1\n",
              "Maxpulse    1\n",
              "Calories    3\n",
              "dtype: int64"
            ]
          },
          "metadata": {},
          "execution_count": 3
        }
      ]
    },
    {
      "cell_type": "markdown",
      "metadata": {
        "id": "Se0A9v_F-LKI"
      },
      "source": [
        "Data Cleaning is the process of finding and correcting the inaccurate/incorrect data that are present in the dataset. \n",
        "\n",
        "Handling missing values is an essential part of data cleaning and preparation process since almost all data in real life comes with some missing values.\n",
        "\n",
        "Dealing with missing values is essesntial since most of the machine learning models provide an error when working with NaN values. There are various approaches to deal with missing values :\n",
        "1. Delate the whole columns\n",
        "2. Delate the whole row that contains the missing value\n",
        "3. Replace the missing value with another value : The easiest way is to just fill them up with 0, but this can reduce your model accuracy significantly.\n",
        "\n",
        " For choosing the best method, it is necessary to understand the type of missing value and its significance\n"
      ]
    },
    {
      "cell_type": "markdown",
      "metadata": {
        "id": "tzEiulUmC3hd"
      },
      "source": [
        "##Removing the missing values\n",
        "\n",
        "how=’any’ : drop if there is any missing value\n",
        "how=’all’ : drop if all values are missing"
      ]
    },
    {
      "cell_type": "code",
      "metadata": {
        "colab": {
          "base_uri": "https://localhost:8080/"
        },
        "id": "Bp6ROWhhDM0Q",
        "outputId": "0881ff78-5e39-4d4e-d5e5-253d1914f2ea"
      },
      "source": [
        "new_df = df.dropna(axis = 0, how= 'any')  \n",
        "new_df.isnull().sum()"
      ],
      "execution_count": null,
      "outputs": [
        {
          "output_type": "execute_result",
          "data": {
            "text/plain": [
              "Duration    0\n",
              "Date        0\n",
              "Pulse       0\n",
              "Maxpulse    0\n",
              "Calories    0\n",
              "dtype: int64"
            ]
          },
          "metadata": {},
          "execution_count": 4
        }
      ]
    },
    {
      "cell_type": "markdown",
      "metadata": {
        "id": "6qrI6WCBI5K1"
      },
      "source": [
        "**Exercise :** What does it means axis = 0 in the previous statement?  How shoudl we do to remove the whole column? What should we do to remove the whole row only if all the values are missing? \n"
      ]
    },
    {
      "cell_type": "markdown",
      "metadata": {
        "id": "M1noDH1qDiLw"
      },
      "source": [
        "Remove uniquement the whole row by column"
      ]
    },
    {
      "cell_type": "code",
      "metadata": {
        "colab": {
          "base_uri": "https://localhost:8080/"
        },
        "id": "nEJpNk1ZDqo8",
        "outputId": "6fe82e91-e7fe-4499-e9de-f114820d6852"
      },
      "source": [
        "new_df2 = df.dropna(subset=['Calories'])\n",
        "new_df2.isnull().sum()"
      ],
      "execution_count": null,
      "outputs": [
        {
          "output_type": "execute_result",
          "data": {
            "text/plain": [
              "Duration    0\n",
              "Date        1\n",
              "Pulse       1\n",
              "Maxpulse    1\n",
              "Calories    0\n",
              "dtype: int64"
            ]
          },
          "metadata": {},
          "execution_count": 5
        }
      ]
    },
    {
      "cell_type": "markdown",
      "metadata": {
        "id": "SrEAmTRFDCT2"
      },
      "source": [
        ""
      ]
    },
    {
      "cell_type": "markdown",
      "metadata": {
        "id": "Y_A63XT3FpQ8"
      },
      "source": [
        "##Replace the missing value :\n",
        "\n",
        "1. Filling the missing data with the mean or median value if it’s a numerical variable.\n",
        "2. Filling the missing data with mode if it’s a categorical value.\n",
        "3. Filling the numerical value with 0 or -999, or some other number that will not occur in the data. This can be done so that the machine can recognize that the data is not real or is different.\n",
        "4. Filling the categorical value with a new type for the missing values.\n",
        "\n",
        "We can use the fillna() function to fill the null values in the dataset or the replace function. "
      ]
    },
    {
      "cell_type": "code",
      "metadata": {
        "colab": {
          "base_uri": "https://localhost:8080/"
        },
        "id": "1a9ZeAP_GPHE",
        "outputId": "6c5f78e3-0d18-4633-9363-67a0139df608"
      },
      "source": [
        "new_df3 = df\n",
        "new_df3['Calories']=df['Calories'].fillna(df['Calories'].mean())\n",
        "new_df3.isnull().sum()"
      ],
      "execution_count": null,
      "outputs": [
        {
          "output_type": "execute_result",
          "data": {
            "text/plain": [
              "Duration    0\n",
              "Date        1\n",
              "Pulse       1\n",
              "Maxpulse    1\n",
              "Calories    0\n",
              "dtype: int64"
            ]
          },
          "metadata": {},
          "execution_count": 11
        }
      ]
    },
    {
      "cell_type": "code",
      "metadata": {
        "id": "1HXLUP1wKRYB"
      },
      "source": [
        ""
      ],
      "execution_count": null,
      "outputs": []
    },
    {
      "cell_type": "markdown",
      "metadata": {
        "id": "7x0ldA2IKS-5"
      },
      "source": [
        "Exercise : Replace the missing values for the pulse  with the value 299\n",
        "\n",
        "Exercise : In the instruction fillna set the  method parameter; What does it do?"
      ]
    },
    {
      "cell_type": "markdown",
      "metadata": {
        "id": "XkNHrCJoKtQE"
      },
      "source": [
        "So far we have considered that the missing values were clearly recognizable by Python. However, what happens if the values are not detect automatically by Python? That could be the case if the values are codes as \"---\" or they are just worng values.\n",
        "In this cases aht we can do is to use the replace function \n"
      ]
    },
    {
      "cell_type": "markdown",
      "metadata": {
        "id": "-jaoUwArMa3w"
      },
      "source": [
        "Exercise : Create a dataset in which the missing values are coded as \"---\" replace those values by np.nan and then fill this missing values with the mean value for this column; "
      ]
    },
    {
      "cell_type": "code",
      "metadata": {
        "colab": {
          "base_uri": "https://localhost:8080/",
          "height": 300
        },
        "id": "-EqKlsvhRXSb",
        "outputId": "8d54d737-b0c1-4302-80ab-f1686474c89e"
      },
      "source": [
        "df.describe()"
      ],
      "execution_count": null,
      "outputs": [
        {
          "output_type": "execute_result",
          "data": {
            "text/html": [
              "<div>\n",
              "<style scoped>\n",
              "    .dataframe tbody tr th:only-of-type {\n",
              "        vertical-align: middle;\n",
              "    }\n",
              "\n",
              "    .dataframe tbody tr th {\n",
              "        vertical-align: top;\n",
              "    }\n",
              "\n",
              "    .dataframe thead th {\n",
              "        text-align: right;\n",
              "    }\n",
              "</style>\n",
              "<table border=\"1\" class=\"dataframe\">\n",
              "  <thead>\n",
              "    <tr style=\"text-align: right;\">\n",
              "      <th></th>\n",
              "      <th>Duration</th>\n",
              "      <th>Pulse</th>\n",
              "      <th>Maxpulse</th>\n",
              "      <th>Calories</th>\n",
              "    </tr>\n",
              "  </thead>\n",
              "  <tbody>\n",
              "    <tr>\n",
              "      <th>count</th>\n",
              "      <td>8.000000</td>\n",
              "      <td>31.000000</td>\n",
              "      <td>31.000000</td>\n",
              "      <td>32.000000</td>\n",
              "    </tr>\n",
              "    <tr>\n",
              "      <th>mean</th>\n",
              "      <td>93.750000</td>\n",
              "      <td>103.612903</td>\n",
              "      <td>128.387097</td>\n",
              "      <td>302.289655</td>\n",
              "    </tr>\n",
              "    <tr>\n",
              "      <th>std</th>\n",
              "      <td>144.042404</td>\n",
              "      <td>7.935899</td>\n",
              "      <td>13.197670</td>\n",
              "      <td>62.570607</td>\n",
              "    </tr>\n",
              "    <tr>\n",
              "      <th>min</th>\n",
              "      <td>30.000000</td>\n",
              "      <td>90.000000</td>\n",
              "      <td>101.000000</td>\n",
              "      <td>195.100000</td>\n",
              "    </tr>\n",
              "    <tr>\n",
              "      <th>25%</th>\n",
              "      <td>45.000000</td>\n",
              "      <td>100.000000</td>\n",
              "      <td>120.000000</td>\n",
              "      <td>250.700000</td>\n",
              "    </tr>\n",
              "    <tr>\n",
              "      <th>50%</th>\n",
              "      <td>45.000000</td>\n",
              "      <td>103.000000</td>\n",
              "      <td>127.000000</td>\n",
              "      <td>300.000000</td>\n",
              "    </tr>\n",
              "    <tr>\n",
              "      <th>75%</th>\n",
              "      <td>45.000000</td>\n",
              "      <td>107.000000</td>\n",
              "      <td>132.500000</td>\n",
              "      <td>335.875000</td>\n",
              "    </tr>\n",
              "    <tr>\n",
              "      <th>max</th>\n",
              "      <td>450.000000</td>\n",
              "      <td>130.000000</td>\n",
              "      <td>175.000000</td>\n",
              "      <td>479.000000</td>\n",
              "    </tr>\n",
              "  </tbody>\n",
              "</table>\n",
              "</div>"
            ],
            "text/plain": [
              "         Duration       Pulse    Maxpulse    Calories\n",
              "count    8.000000   31.000000   31.000000   32.000000\n",
              "mean    93.750000  103.612903  128.387097  302.289655\n",
              "std    144.042404    7.935899   13.197670   62.570607\n",
              "min     30.000000   90.000000  101.000000  195.100000\n",
              "25%     45.000000  100.000000  120.000000  250.700000\n",
              "50%     45.000000  103.000000  127.000000  300.000000\n",
              "75%     45.000000  107.000000  132.500000  335.875000\n",
              "max    450.000000  130.000000  175.000000  479.000000"
            ]
          },
          "metadata": {},
          "execution_count": 26
        }
      ]
    },
    {
      "cell_type": "code",
      "metadata": {
        "colab": {
          "base_uri": "https://localhost:8080/"
        },
        "id": "vdNrI307MaOo",
        "outputId": "4630e096-4250-454b-a6d1-8c5f9cbdc872"
      },
      "source": [
        "\n",
        "new_df3 = df\n",
        "new_df3['Duration'].replace(60,'---', inplace = True)\n",
        "new_df3['Duration'].replace('---',np.nan, inplace = True)\n",
        "new_df3['Duration'].fillna(new_df3['Duration'].mean())\n"
      ],
      "execution_count": null,
      "outputs": [
        {
          "output_type": "execute_result",
          "data": {
            "text/plain": [
              "0      93.75\n",
              "1      93.75\n",
              "2      93.75\n",
              "3      45.00\n",
              "4      45.00\n",
              "5      93.75\n",
              "6      93.75\n",
              "7     450.00\n",
              "8      30.00\n",
              "9      93.75\n",
              "10     93.75\n",
              "11     93.75\n",
              "12     93.75\n",
              "13     93.75\n",
              "14     93.75\n",
              "15     93.75\n",
              "16     93.75\n",
              "17     93.75\n",
              "18     45.00\n",
              "19     93.75\n",
              "20     45.00\n",
              "21     93.75\n",
              "22     45.00\n",
              "23     93.75\n",
              "24     45.00\n",
              "25     93.75\n",
              "26     93.75\n",
              "27     93.75\n",
              "28     93.75\n",
              "29     93.75\n",
              "30     93.75\n",
              "31     93.75\n",
              "Name: Duration, dtype: float64"
            ]
          },
          "metadata": {},
          "execution_count": 25
        }
      ]
    },
    {
      "cell_type": "markdown",
      "metadata": {
        "id": "VnlYJ854WlVX"
      },
      "source": [
        "## Final Exercise : Importing and claning the titanic Kaggle dataset\n",
        "\n",
        "1. Import the dataset titatic.csv locate in my repository. This dataset is an extraction from the Titanic kaggle dataset.\n",
        "\n",
        "2. Get an overview of the first data in the datase\n",
        "\n",
        "3. Verify the number of person included in this dataset, the main features and show a descriptive table of the main statistics for each feature.\n",
        "\n",
        "4. Are there anu categorial variables in this datasets? If so convert the categorical variables in numerical ones.\n",
        "\n",
        "5. Are there any missing values if so, used one of the strategies learned to deal with them, justify your choise.\n",
        "\n",
        "6. Lets suppose that we want to create a classificator that predicts if a person is going to survive or not; Which features do you think that are relevant for this problem. Create a new dataset that contains only the selected features.\n",
        "\n",
        "\n",
        "Sources https://www.analyticsvidhya.com/blog/2021/05/dealing-with-missing-values-in-python-a-complete-guide/\n",
        "\n"
      ]
    }
  ]
}