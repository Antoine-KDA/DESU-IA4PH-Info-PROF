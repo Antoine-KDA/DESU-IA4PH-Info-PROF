{
  "nbformat": 4,
  "nbformat_minor": 0,
  "metadata": {
    "colab": {
      "name": "Introduction to python.ipynb",
      "provenance": [],
      "collapsed_sections": [
        "J_96nIXfWm68",
        "7nntBYfee2ZL",
        "zbBFe-5LJjsh",
        "UWQlSGWYTzD9",
        "qn5Vqovog7Br",
        "3g20hftTitl3"
      ],
      "authorship_tag": "ABX9TyPIX91KN933RLXtQ7TxkQaV",
      "include_colab_link": true
    },
    "kernelspec": {
      "name": "python3",
      "display_name": "Python 3"
    },
    "language_info": {
      "name": "python"
    }
  },
  "cells": [
    {
      "cell_type": "markdown",
      "metadata": {
        "id": "view-in-github",
        "colab_type": "text"
      },
      "source": [
        "<a href=\"https://colab.research.google.com/github/rakelup/DESU-IA4PH-Info-PROF/blob/main/Introduction_to_python.ipynb\" target=\"_parent\"><img src=\"https://colab.research.google.com/assets/colab-badge.svg\" alt=\"Open In Colab\"/></a>"
      ]
    },
    {
      "cell_type": "markdown",
      "metadata": {
        "id": "C14inZ7kfsJ8"
      },
      "source": [
        "Referencias\n",
        "\n",
        "https://www.greenteapress.com/thinkpython/thinkCSpy/html/chap02.html\n",
        "\n",
        "https://www.linkedin.com/learning/learning-python/quiz/urn:li:learningApiAssessment:1552935?contextUrn=urn%3Ali%3AlyndaLearningPath%3A5f6cf9fe498e1b8929698639\n"
      ]
    },
    {
      "cell_type": "markdown",
      "metadata": {
        "id": "ivm9JtmDQxwj"
      },
      "source": [
        "#DESU IA4 HEALH \n",
        "#TU : Info-PROF, Introduction to Python programming for health data\n",
        "\n"
      ]
    },
    {
      "cell_type": "markdown",
      "metadata": {
        "id": "hHtMirk7nNse"
      },
      "source": [
        "#Session 1 : Learning objectives \n",
        "\n",
        "\n",
        "1. Values, staments and Variables\n",
        "2. Functions\n",
        "2. Conditional structures\n",
        "4. Loops\n",
        "5. Importing and using modules\n"
      ]
    },
    {
      "cell_type": "code",
      "metadata": {
        "id": "oQweXnRHnJoY"
      },
      "source": [
        ""
      ],
      "execution_count": null,
      "outputs": []
    },
    {
      "cell_type": "markdown",
      "metadata": {
        "id": "J_96nIXfWm68"
      },
      "source": [
        "# 1. Values, staments and Variables"
      ]
    },
    {
      "cell_type": "code",
      "metadata": {
        "id": "JbVPzh6tWlq1"
      },
      "source": [
        ""
      ],
      "execution_count": null,
      "outputs": []
    },
    {
      "cell_type": "markdown",
      "metadata": {
        "id": "7nntBYfee2ZL"
      },
      "source": [
        "##Value\n",
        "\n",
        "A value is one of the fundamental things (like a letter or a number )   that a program manipulates. \n",
        "\n",
        "Python has five standard Data Types:\n",
        "\n",
        "Numbers\n",
        "String\n",
        "List\n",
        "Tuple\n",
        "Dictionary\n",
        "\n",
        "https://developer.rhino3d.com/guides/rhinopython/python-datatypes/\n",
        "\n",
        "\n",
        "\n",
        "If you are not sure what type a value has, the interpreter can tell you.\n"
      ]
    },
    {
      "cell_type": "code",
      "metadata": {
        "id": "YWo-q38xQXx3",
        "colab": {
          "base_uri": "https://localhost:8080/"
        },
        "outputId": "b9ae1db5-8a76-4b08-e5a1-bca88b306743"
      },
      "source": [
        "type('Hello, World!')\n",
        "\n",
        "type(17)\n",
        "\n",
        "type(3.2)\n",
        "\n",
        "type('3.2')\n"
      ],
      "execution_count": null,
      "outputs": [
        {
          "output_type": "execute_result",
          "data": {
            "text/plain": [
              "str"
            ]
          },
          "metadata": {},
          "execution_count": 1
        }
      ]
    },
    {
      "cell_type": "markdown",
      "metadata": {
        "id": "zbBFe-5LJjsh"
      },
      "source": [
        "##**Statements in python**\n",
        "A statement is an instruction that a Python interpreter can execute. .\n",
        "\n",
        "Python statement ends with the token NEWLINE character. It means each line in a Python script is a statement.\n",
        "\n"
      ]
    },
    {
      "cell_type": "code",
      "metadata": {
        "id": "wlBykE14KGOa"
      },
      "source": [
        "# statement 1\n",
        "print('Hello')\n",
        "\n",
        "# statement 2\n",
        "x = 20\n",
        "\n",
        "# statement 3\n",
        "print(x)"
      ],
      "execution_count": null,
      "outputs": []
    },
    {
      "cell_type": "code",
      "metadata": {
        "id": "Cbm1AfD3KQF6"
      },
      "source": [
        "# multiline statement\n",
        "addition = 10 + 20 + \\\n",
        "           30 + 40 + \\\n",
        "           50 + 60 + 70\n",
        "print(addition)"
      ],
      "execution_count": null,
      "outputs": []
    },
    {
      "cell_type": "code",
      "metadata": {
        "id": "ZlauTGK3KZqS"
      },
      "source": [
        ""
      ],
      "execution_count": null,
      "outputs": []
    },
    {
      "cell_type": "markdown",
      "metadata": {
        "id": "UWQlSGWYTzD9"
      },
      "source": [
        "##**Variables in Python**\n",
        "\n",
        "A variable is a name that refers to a value.\n",
        "\n",
        "The assignment statement creates new variables and gives them values\n"
      ]
    },
    {
      "cell_type": "code",
      "metadata": {
        "colab": {
          "base_uri": "https://localhost:8080/"
        },
        "id": "ELT38jjmTE8n",
        "outputId": "0db8f18b-7ee3-40bf-e558-1bfc52fd2c09"
      },
      "source": [
        "# Declare a variable and initialize it\n",
        "f = 0\n",
        "print (f)\n",
        "\n",
        "# re-declaring the variable works\n",
        "f = \"abc\"\n",
        "print (f)\n",
        "\n",
        "\n",
        "\n",
        "# Global vs. local variables in functions\n",
        "def someFunction():\n",
        "  #global f\n",
        "  f = \"def\"\n",
        "  print (f)\n",
        "\n",
        "someFunction()\n",
        "print (f) \n"
      ],
      "execution_count": null,
      "outputs": [
        {
          "output_type": "stream",
          "name": "stdout",
          "text": [
            "0\n",
            "abc\n",
            "def\n",
            "abc\n"
          ]
        }
      ]
    },
    {
      "cell_type": "code",
      "metadata": {
        "colab": {
          "base_uri": "https://localhost:8080/"
        },
        "id": "o1KFeY4xGmSh",
        "outputId": "5fd727a1-d4e8-4007-e9ea-66caf1343f30"
      },
      "source": [
        "#print (\"string type \" + 123) # ERROR: variables of different types cannot be combined\n",
        "\n",
        "\n",
        "print (\"string type \" + str(123))"
      ],
      "execution_count": null,
      "outputs": [
        {
          "output_type": "stream",
          "name": "stdout",
          "text": [
            "string type 123\n"
          ]
        }
      ]
    },
    {
      "cell_type": "markdown",
      "metadata": {
        "id": "qn5Vqovog7Br"
      },
      "source": [
        "###**Variable names and keywords :**\n",
        "\n",
        "Programmers generally choose names for their variables that are meaningful     they document what the variable is used for.\n",
        "\n",
        "*Variable names can be arbitrarily long.\n",
        "*They can contain both letters and numbers.\n",
        "*They have to begin with a letter. \n",
        "*By convention we don't use upper case letters (case matters, Bruce and bruce are different variables).\n",
        "\n",
        "*The underscore character (_) can appear in a name. It is often used in names with multiple words, such as my_name or price_of_tea_in_china.\n",
        "\n",
        "*If you give a variable an illegal name, you get a syntax error:\n",
        "\n",
        "\n",
        "\n"
      ]
    },
    {
      "cell_type": "code",
      "metadata": {
        "id": "M8fpcG6Yg2ZN",
        "colab": {
          "base_uri": "https://localhost:8080/",
          "height": 130
        },
        "outputId": "f147da69-e7d6-4c4e-cf11-0efde6502c6c"
      },
      "source": [
        "# Example Illegal names, What are they illegal?\n",
        "\n",
        "76trombones = 'big parade'\n",
        "\n",
        "class = 'Computer Science 101'"
      ],
      "execution_count": null,
      "outputs": [
        {
          "output_type": "error",
          "ename": "SyntaxError",
          "evalue": "ignored",
          "traceback": [
            "\u001b[0;36m  File \u001b[0;32m\"<ipython-input-9-67eaf0ac2cd0>\"\u001b[0;36m, line \u001b[0;32m3\u001b[0m\n\u001b[0;31m    76trombones = 'big parade'\u001b[0m\n\u001b[0m              ^\u001b[0m\n\u001b[0;31mSyntaxError\u001b[0m\u001b[0;31m:\u001b[0m invalid syntax\n"
          ]
        }
      ]
    },
    {
      "cell_type": "markdown",
      "metadata": {
        "id": "3g20hftTitl3"
      },
      "source": [
        "##**Operators**\n",
        "Operators are special symbols that represent computations like addition and multiplication. The values the operator uses are called operands."
      ]
    },
    {
      "cell_type": "markdown",
      "metadata": {
        "id": "3xOPDYuALurj"
      },
      "source": [
        "***Arithmetic Operators***"
      ]
    },
    {
      "cell_type": "code",
      "metadata": {
        "id": "DwN8ob0uisBe"
      },
      "source": [
        "#create two variables\n",
        "a=100\n",
        "b=200\n",
        " \n",
        "# addition (+) operator\n",
        "print(a+b) \n",
        " \n",
        "# subtraction (-) operator\n",
        "print(a-b) \n",
        " \n",
        "# multiplication (*) operator\n",
        "print(a*b)\n",
        " \n",
        "# division (/) operator\n",
        "print(b/a)\n",
        " \n",
        "# modulus (%) operator\n",
        "print(a%b) # prints the remainder of a/b\n",
        " \n",
        "# exponent (**) operator\n",
        "print(a**b) #prints a^b\n"
      ],
      "execution_count": null,
      "outputs": []
    },
    {
      "cell_type": "markdown",
      "metadata": {
        "id": "7bw9EhxpMCTq"
      },
      "source": [
        "***Comparison Operators***"
      ]
    },
    {
      "cell_type": "code",
      "metadata": {
        "id": "UTzf50EOMGVr"
      },
      "source": [
        "# create two variables\n",
        "a=100\n",
        "b=200\n",
        " \n",
        "# (==) operator, checks if two operands are equal or not\n",
        "print(a==b)\n",
        " \n",
        "# (!=) operator, checks if two operands are not equal\n",
        "print(a!=b)\n",
        " \n",
        "# (>) operator, checks left operand is greater than right operand or not\n",
        "print(a>b)\n",
        " \n",
        "# (<) operator, checks left operand is less than right operand or not\n",
        "print(a<b)\n",
        "#(>=) operator, checks left operand is greater than or equal to right operand or not\n",
        "print(a>=b)\n",
        " \n",
        "# (<=) operator, checks left operand is less than or equal to right operand or not\n",
        "print(a<=b)\n"
      ],
      "execution_count": null,
      "outputs": []
    },
    {
      "cell_type": "markdown",
      "metadata": {
        "id": "k6HLy046MNP6"
      },
      "source": [
        "#**Functions**\n",
        "A function is a block of code which only runs when it is called.\n",
        "You can pass data, known as parameters, into a function.\n",
        "A function can return data as a result."
      ]
    },
    {
      "cell_type": "code",
      "metadata": {
        "colab": {
          "base_uri": "https://localhost:8080/"
        },
        "id": "VaIcBne-M0JM",
        "outputId": "4a4051f9-ccc0-4f3d-ac9d-f1b39d394d3e"
      },
      "source": [
        "def my_function():\n",
        "  print(\"Hello from a function\")\n",
        "\n",
        "my_function()"
      ],
      "execution_count": null,
      "outputs": [
        {
          "output_type": "stream",
          "name": "stdout",
          "text": [
            "Hello from a function\n"
          ]
        }
      ]
    },
    {
      "cell_type": "markdown",
      "metadata": {
        "id": "HmOw2SHQMl3L"
      },
      "source": [
        "Exercise : Write a function that prints \" Programming in Python is awesome\""
      ]
    },
    {
      "cell_type": "code",
      "metadata": {
        "id": "QogJdtzRQsSm"
      },
      "source": [
        ""
      ],
      "execution_count": null,
      "outputs": []
    },
    {
      "cell_type": "markdown",
      "metadata": {
        "id": "ItF2lxc_OrdJ"
      },
      "source": [
        "##** Arguments in a function **\n",
        "Information can be passed into functions as arguments.\n",
        "\n",
        "Arguments are specified after the function name, inside the parentheses. You can add as many arguments as you want, just separate them with a comma.\n",
        "\n",
        "By default, a function must be called with the correct number of arguments. That is, if  your function expects 2 arguments, you have to call the function with 2 arguments, not more, and not less.\n",
        "\n",
        "However there are ways to skip this constraint ..."
      ]
    },
    {
      "cell_type": "code",
      "metadata": {
        "colab": {
          "base_uri": "https://localhost:8080/"
        },
        "id": "zjLFGcRGOz8h",
        "outputId": "12e9c79b-d760-4133-fa1b-f0f6707e98eb"
      },
      "source": [
        "def my_function(fname, lname):\n",
        "  print(fname + \" \" + lname)\n",
        "\n",
        "my_function(\"Emil\", \"Refsnes\")"
      ],
      "execution_count": null,
      "outputs": [
        {
          "output_type": "stream",
          "name": "stdout",
          "text": [
            "Emil Refsnes\n"
          ]
        }
      ]
    },
    {
      "cell_type": "markdown",
      "metadata": {
        "id": "3lmH_JGmPNZF"
      },
      "source": [
        "Exercise : write a function that receives two values and print the sum of them."
      ]
    },
    {
      "cell_type": "code",
      "metadata": {
        "id": "mhpfcpbEQtHG"
      },
      "source": [
        ""
      ],
      "execution_count": null,
      "outputs": []
    },
    {
      "cell_type": "markdown",
      "metadata": {
        "id": "gLBaggBYPocn"
      },
      "source": [
        "###** Arbitrary arguments ** \n",
        "If you do not know how many arguments that be passed into your function, add a * before the parameter name in the function definition.\n",
        "\n",
        "This way the function will receive a tuple of arguments, and can access the items accordingly:"
      ]
    },
    {
      "cell_type": "code",
      "metadata": {
        "colab": {
          "base_uri": "https://localhost:8080/"
        },
        "id": "n7zH3YQHP87J",
        "outputId": "c704f46c-a747-425d-af26-a86a3b1fabe6"
      },
      "source": [
        "def my_function(*kids):\n",
        "  print(\"The youngest child is \" + kids[2])\n",
        "\n",
        "my_function(\"Emil\", \"Tobias\", \"Linus\")"
      ],
      "execution_count": null,
      "outputs": [
        {
          "output_type": "stream",
          "name": "stdout",
          "text": [
            "The youngest child is Linus\n"
          ]
        }
      ]
    },
    {
      "cell_type": "markdown",
      "metadata": {
        "id": "q6NHY6h-QEPV"
      },
      "source": [
        "Exercise : Write a function that receives and arbitrary list of numbers and prints the third one."
      ]
    },
    {
      "cell_type": "code",
      "metadata": {
        "id": "9IgPMaWWQt1m"
      },
      "source": [
        ""
      ],
      "execution_count": null,
      "outputs": []
    },
    {
      "cell_type": "markdown",
      "metadata": {
        "id": "RsaeqzHOSlQ4"
      },
      "source": [
        "###Keyword Arguments\n",
        "You can also send arguments with the key = value syntax.\n",
        "\n",
        "This way the order of the arguments does not matter.\n",
        "\n"
      ]
    },
    {
      "cell_type": "code",
      "metadata": {
        "colab": {
          "base_uri": "https://localhost:8080/"
        },
        "id": "Gh8rWx55SneH",
        "outputId": "1acf1c83-b1b9-4a5d-cb0c-30d6939d4ef6"
      },
      "source": [
        "def my_function(child3, child2, child1):\n",
        "  print(\"The youngest child is \" + child3)\n",
        "\n",
        "my_function(child1 = \"Emil\", child2 = \"Tobias\", child3 = \"Linus\")"
      ],
      "execution_count": null,
      "outputs": [
        {
          "output_type": "stream",
          "name": "stdout",
          "text": [
            "The youngest child is Linus\n"
          ]
        }
      ]
    },
    {
      "cell_type": "markdown",
      "metadata": {
        "id": "-lClSpDMSsK_"
      },
      "source": [
        "###Arbitrary Keyword Arguments, **kwargs\n",
        "If you do not know how many keyword arguments that will be passed into your function, add two asterisk: ** before the parameter name in the function definition.\n",
        "\n",
        "This way the function will receive a dictionary of arguments, and can access the items accordingly:"
      ]
    },
    {
      "cell_type": "code",
      "metadata": {
        "colab": {
          "base_uri": "https://localhost:8080/"
        },
        "id": "kG5SfIBzSzyf",
        "outputId": "3de65991-462e-4099-f641-db1f53344ab1"
      },
      "source": [
        "def my_function(**kid):\n",
        "  print(\"His last name is \" + kid[\"lname\"])\n",
        "\n",
        "my_function(fname = \"Tobias\", lname = \"Refsnes\")"
      ],
      "execution_count": null,
      "outputs": [
        {
          "output_type": "stream",
          "name": "stdout",
          "text": [
            "His last name is Refsnes\n"
          ]
        }
      ]
    },
    {
      "cell_type": "markdown",
      "metadata": {
        "id": "nOm-0IMkSv9o"
      },
      "source": [
        ""
      ]
    },
    {
      "cell_type": "markdown",
      "metadata": {
        "id": "CCWVHYgNUUAt"
      },
      "source": [
        "Return value\n",
        "To let a function return a value, use the return statement"
      ]
    },
    {
      "cell_type": "code",
      "metadata": {
        "colab": {
          "base_uri": "https://localhost:8080/"
        },
        "id": "cv-0IAZVUZwn",
        "outputId": "6ca80bfe-9976-4565-9167-4159f13f3227"
      },
      "source": [
        "def my_function(x):\n",
        "  return 5 * x\n",
        "\n",
        "print(my_function(3))\n",
        "print(my_function(5))\n",
        "print(my_function(9))\n"
      ],
      "execution_count": null,
      "outputs": [
        {
          "output_type": "stream",
          "name": "stdout",
          "text": [
            "15\n",
            "25\n",
            "45\n"
          ]
        }
      ]
    },
    {
      "cell_type": "markdown",
      "metadata": {
        "id": "PWyonUk4UfkV"
      },
      "source": [
        "##Exercises\n",
        "\n",
        "1 Create a function call BMI that receives the height the size and the weight of a person and that returns the body mass index.\n",
        "\n",
        "2 Creite a function BMI_advanced that use key-word arguments in order to be able to pass the parameters in an arbitrary order.\n",
        "\n",
        "3 What is the difference between returning a value and printing it?\n",
        "\n",
        "4 Call the function BMI advanced ansd store the returned value in a varible, then print this variable.\n",
        "\n",
        "5 Create a funtion that receives two values and returns the bigest one. The function have also to print the biggest value.\n"
      ]
    },
    {
      "cell_type": "markdown",
      "metadata": {
        "id": "c82EGn9hjhwV"
      },
      "source": [
        "# Control Stuctures"
      ]
    },
    {
      "cell_type": "markdown",
      "metadata": {
        "id": "Go7-SGdTjpBl"
      },
      "source": [
        "## Python Conditions and IF-ELSE statements\n",
        "As aforementioned, python supports the usual logical conditions from mathematics:\n",
        "\n",
        "* Equals: a == b\n",
        "*Not Equals: a != b\n",
        "*Less than: a < b\n",
        "*Less than or equal to: a <= b\n",
        "*Greater than: a > b\n",
        "*Greater than or equal to: a >= b\n",
        "\n",
        "\n",
        "\n"
      ]
    },
    {
      "cell_type": "code",
      "metadata": {
        "id": "_8UQjtimjoGG"
      },
      "source": [
        "a = 33\n",
        "b = 200\n",
        "if b > a:\n",
        "  print(\"b is greater than a\")\n",
        "else : \n",
        "    print(print(\"b is greater than a\"))"
      ],
      "execution_count": null,
      "outputs": []
    },
    {
      "cell_type": "markdown",
      "metadata": {
        "id": "2ilGAcDEmda-"
      },
      "source": [
        "Python relies on indentation (whitespace at the beginning of a line) to define scope in the code. Other programming languages often use curly-brackets for this purpose.\n",
        "\n",
        "Exercise : Try to put the last print statement at the same level than the else. What happens ??"
      ]
    },
    {
      "cell_type": "markdown",
      "metadata": {
        "id": "hJY7HKy3o1wv"
      },
      "source": [
        "Terminar if else y bucles y apply\n",
        "Proponer ejercicios \n",
        "\n",
        "Sacar material de aqui\n",
        "https://www.w3schools.com/python/python_conditions.asp"
      ]
    },
    {
      "cell_type": "markdown",
      "metadata": {
        "id": "9m-0P54yuWoN"
      },
      "source": [
        "Exercise : Modify the fucntion BMI_advanced in order to print if the person has overweight according to the following rules :\n",
        "BMI Categories:\n",
        "*Underweight = <18.5\n",
        "*Normal weight = 18.5–24.9\n",
        "*Overweight = 25–29.9\n",
        "*Obesity = BMI of 30 or greater"
      ]
    },
    {
      "cell_type": "markdown",
      "metadata": {
        "id": "Pj9OyghFwPf7"
      },
      "source": [
        "Exercise 2 : Develop a medical decision tree \n",
        "https://www.medg.fr/alcalose-respiratoire/\n"
      ]
    },
    {
      "cell_type": "code",
      "metadata": {
        "id": "EJpPip0cwOus"
      },
      "source": [
        ""
      ],
      "execution_count": null,
      "outputs": []
    },
    {
      "cell_type": "code",
      "metadata": {
        "id": "0ue48jc5uV7u"
      },
      "source": [
        ""
      ],
      "execution_count": null,
      "outputs": []
    }
  ]
}